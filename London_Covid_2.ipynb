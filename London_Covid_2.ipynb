{
 "cells": [
  {
   "cell_type": "code",
   "execution_count": null,
   "metadata": {},
   "outputs": [],
   "source": [
    "import pandas as pd\n",
    "from matplotlib import pyplot as plt\n",
    "import altair as alt\n",
    "import seaborn as sns\n",
    "import numpy as np"
   ]
  },
  {
   "cell_type": "markdown",
   "metadata": {},
   "source": [
    "### 1. load cross reference data and group by LSOA11CD"
   ]
  },
  {
   "cell_type": "code",
   "execution_count": null,
   "metadata": {},
   "outputs": [],
   "source": [
    "cross_ref = pd.read_csv(\"Output_Area_to_LSOA_to_MSOA_to_Local_Authority_District_(December_2017)_Lookup_with_Area_Classifications_in_Great_Britain.csv\")\n",
    "\n",
    "cross_ref.drop(['OA11CD'], axis=1, inplace=True)\n",
    "cross_ref.drop(['LAD17CD'], axis=1, inplace=True)"
   ]
  },
  {
   "cell_type": "code",
   "execution_count": null,
   "metadata": {},
   "outputs": [],
   "source": [
    "lsoa_to_msoa = cross_ref.groupby(['LSOA11CD','LSOA11NM','MSOA11CD','MSOA11NM']).count().reset_index()\n",
    "lsoa_to_msoa.count()"
   ]
  },
  {
   "cell_type": "markdown",
   "metadata": {},
   "source": [
    "### 2. load london only covid data and group it all into one table\n",
    "From this one dataset (containing data up to 28 May, 2020) we load and then merge the following:\n",
    "- deaths \n",
    "- population over 70\n",
    "- ethnic_group\n",
    "- medical_conditions"
   ]
  },
  {
   "cell_type": "code",
   "execution_count": null,
   "metadata": {},
   "outputs": [],
   "source": [
    "deaths = pd.read_excel(\"underlying_data_2020_06_01.xlsx\", sheet_name='1 deaths')\n",
    "population = pd.read_excel(\"underlying_data_2020_06_01.xlsx\", sheet_name='2 population')\n",
    "ethnicity = pd.read_excel(\"underlying_data_2020_06_01.xlsx\", sheet_name='4 ethnic_group')\n",
    "health = pd.read_excel(\"underlying_data_2020_06_01.xlsx\", sheet_name='7 medical_conditions')\n",
    "\n",
    "london_covid_total = pd.merge(deaths, population, left_on='MSOA11CD', right_on='MSOA11CD', how = 'inner')\n",
    "london_covid_total = pd.merge(london_covid_total, ethnicity, left_on='MSOA11CD', right_on='MSOA11CD', how = 'inner')\n",
    "london_covid_total = pd.merge(london_covid_total, health, left_on='MSOA11CD', right_on='MSOA11CD', how = 'inner')\n",
    "\n",
    "london_covid_total.count()"
   ]
  },
  {
   "cell_type": "code",
   "execution_count": null,
   "metadata": {},
   "outputs": [],
   "source": [
    "london_covid_total.drop(['MSOA11NM_x'], axis=1, inplace=True)\n",
    "london_covid_total.drop(['MSOA11NM_y'], axis=1, inplace=True)\n",
    "london_covid_total.drop(['Local authority_x'], axis=1, inplace=True)\n",
    "london_covid_total.drop(['Local authority_y'], axis=1, inplace=True)\n",
    "london_covid_total.drop(['Local Authority'], axis=1, inplace=True)\n",
    "london_covid_total.head()"
   ]
  },
  {
   "cell_type": "markdown",
   "metadata": {},
   "source": [
    "### 3. load deprivation data\n",
    "The domains of deprivation gives us a ranking from 1 to many thousands for deprivation along a number of dimensions:\n",
    "- income_rank\n",
    "- environment_rank\n",
    "- education_rank\n",
    "- health_rank\n",
    "- housing_rank\n",
    "- living_environment_rank"
   ]
  },
  {
   "cell_type": "code",
   "execution_count": null,
   "metadata": {},
   "outputs": [],
   "source": [
    "uk_deprivation_data = pd.read_excel(\"File_2_-_IoD2019_Domains_of_Deprivation.xlsx\", sheet_name='IoD2019 Domains',\n",
    "                                    usecols = \"A,B,C,D,G,I,K, M, Q, S\", names=['lsoa_code', 'lsoa_name', \n",
    "                                                            'local_auth_code', 'local_auth_name',  'income_rank', \n",
    "                                                            'employment_rank', 'education_rank', 'health_rank',\n",
    "                                                            'housing_rank', 'living_environment_rank'])\n",
    "\n",
    "london_deprivation = uk_deprivation_data[uk_deprivation_data['local_auth_code'].str.contains('E09')]\n",
    "print(london_deprivation.count())\n",
    "london_deprivation.head()"
   ]
  },
  {
   "cell_type": "markdown",
   "metadata": {},
   "source": [
    "### Now merge deprivation and cross reference to get the link between lsoa and msoa"
   ]
  },
  {
   "cell_type": "code",
   "execution_count": null,
   "metadata": {},
   "outputs": [],
   "source": [
    "# Now merge with cross ref and then group by msoa code\n",
    "\n",
    "print(london_deprivation.count())\n",
    "london_deprivation_new = pd.merge(london_deprivation, lsoa_to_msoa, left_on='lsoa_code', right_on='LSOA11CD', how = 'inner')\n",
    "\n",
    "print(london_deprivation_new.count())\n",
    "\n",
    "london_deprivation_new.head()"
   ]
  },
  {
   "cell_type": "markdown",
   "metadata": {},
   "source": [
    "### Now group by MSOA and then merge with London covid data to get one large dataset"
   ]
  },
  {
   "cell_type": "code",
   "execution_count": null,
   "metadata": {
    "scrolled": false
   },
   "outputs": [],
   "source": [
    "london_deprivation_msoa = london_deprivation_new.groupby(['local_auth_code', \n",
    "                                                          'local_auth_name', 'MSOA11CD', 'MSOA11NM']).median().reset_index()\n",
    "\n",
    "print(london_deprivation_msoa.count())\n",
    "london_deprivation_msoa.head()"
   ]
  },
  {
   "cell_type": "markdown",
   "metadata": {},
   "source": [
    "### Now merge with the covid deaths data based on msoa code"
   ]
  },
  {
   "cell_type": "code",
   "execution_count": null,
   "metadata": {},
   "outputs": [],
   "source": [
    "london_covid_all = pd.merge(london_covid_total, london_deprivation_msoa, \n",
    "                            left_on='MSOA11CD', right_on='MSOA11CD', how = 'inner')\n",
    "\n",
    "print(london_covid_all.count())\n",
    "london_covid_all.head()"
   ]
  },
  {
   "cell_type": "code",
   "execution_count": null,
   "metadata": {},
   "outputs": [],
   "source": [
    "london_covid_all.drop(['Local authority'], axis=1, inplace=True)\n",
    "london_covid_all.drop(['total_registered_patients'], axis=1, inplace=True)\n",
    "\n",
    "london_covid_all.rename(columns = {'MSOA11CD':'msoa_code'}, inplace = True)\n",
    "london_covid_all.rename(columns = {'MSOA11NM':'msoa_name'}, inplace = True)\n",
    "london_covid_all.rename(columns = {'Hypertension':'hypertension'}, inplace = True)\n",
    "london_covid_all.rename(columns = {'Obesity (18+)':'obesity'}, inplace = True)\n",
    "london_covid_all.rename(columns = {'Diabetes':'diabetes'}, inplace = True)\n",
    "london_covid_all.rename(columns = {'Asthma':'asthma'}, inplace = True)\n",
    "london_covid_all.rename(columns = {'Coronary heart disease':'heart_disease'}, inplace = True)\n",
    "\n",
    "london_covid_all.head()\n"
   ]
  },
  {
   "cell_type": "markdown",
   "metadata": {},
   "source": [
    "### ONS monthly death data\n",
    "The London death data only extends to 17th April and so doesn't really encompass the entire first wave, and for that we would need data extending to the end of June, 2020. \n",
    "- We therefore load additional ONS monthly death data from March to end of July to provide a more comprehensive set of death data that covers the vast majority of deaths within the first wave. THis data is also at MSOA level"
   ]
  },
  {
   "cell_type": "code",
   "execution_count": null,
   "metadata": {},
   "outputs": [],
   "source": [
    "ONS_covid_deaths = pd.read_excel(\"covidlocalareadeprivationupdate.xlsx\", sheet_name='Table 5', \n",
    "                                 usecols = \"A,Q:U\", names=['msoa_code', 'march_deaths', \n",
    "                                                           'april_deaths', 'may_deaths', 'june_deaths', 'july_deaths'], skiprows=12)\n",
    "\n",
    "ONS_covid_deaths['ons_total_deaths'] = ONS_covid_deaths.march_deaths + ONS_covid_deaths.april_deaths + ONS_covid_deaths.may_deaths + ONS_covid_deaths.june_deaths + ONS_covid_deaths.july_deaths\n",
    "\n",
    "print(ONS_covid_deaths.count())\n",
    "ONS_covid_deaths.head()"
   ]
  },
  {
   "cell_type": "markdown",
   "metadata": {},
   "source": [
    "#### Merge with london_covid_all"
   ]
  },
  {
   "cell_type": "code",
   "execution_count": null,
   "metadata": {},
   "outputs": [],
   "source": [
    "london_covid_all_ons = pd.merge(london_covid_all, ONS_covid_deaths, \n",
    "                                left_on='msoa_code', right_on='msoa_code', how = 'inner')\n",
    "\n",
    "print(london_covid_all_ons.count())\n",
    "london_covid_all_ons.head(10)"
   ]
  },
  {
   "cell_type": "code",
   "execution_count": null,
   "metadata": {},
   "outputs": [],
   "source": [
    "# first add a field for ons deaths as a proportion of population and then reorder\n",
    "london_covid_all_ons['ons_deaths_per_thousand'] = (1000*london_covid_all_ons.ons_total_deaths) / london_covid_all_ons.total_population_mid_2018\n",
    "# now reorder before melting\n",
    "london_covid_all_ons = london_covid_all_ons[['msoa_code', 'msoa_name', 'local_auth_code', 'local_auth_name', \n",
    "                                     'covid_19_deaths', 'covid_19_deaths_per_thousand', 'ons_total_deaths', \n",
    "                                     'ons_deaths_per_thousand', 'march_deaths', 'april_deaths', 'may_deaths',\n",
    "                                     'june_deaths', 'july_deaths', 'total_population_mid_2018',\n",
    "                                     'over_70_prop', 'all_bame_prop', 'all_black_prop', 'pakistani_or_bangladeshi_prop',\n",
    "                                     'all_indian_prop', 'hypertension',\n",
    "                                     'obesity', 'diabetes', 'asthma', 'heart_disease', 'income_rank', \n",
    "                                     'education_rank', 'health_rank', 'housing_rank', 'living_environment_rank'\n",
    "                                    ]]\n",
    "\n",
    "print(london_covid_all_ons.count())\n",
    "london_covid_all_ons.head()"
   ]
  },
  {
   "cell_type": "code",
   "execution_count": null,
   "metadata": {},
   "outputs": [],
   "source": [
    "col_names = london_covid_all_ons.columns.tolist()\n",
    "col_names = col_names[8:29]\n",
    "\n",
    "london_covid_stats = pd.melt(london_covid_all_ons, id_vars=['msoa_code', \n",
    "                                                        'msoa_name', \n",
    "                                                        'local_auth_code', \n",
    "                                                        'local_auth_name',\n",
    "                                                        'covid_19_deaths', \n",
    "                                                        'covid_19_deaths_per_thousand',\n",
    "                                                        'ons_total_deaths',\n",
    "                                                        'ons_deaths_per_thousand'\n",
    "                                                       ], \n",
    "                        value_vars=col_names, var_name = 'measure', value_name='value')\n",
    "\n",
    "print(london_covid_stats.count())\n",
    "london_covid_stats.head()"
   ]
  },
  {
   "cell_type": "code",
   "execution_count": null,
   "metadata": {},
   "outputs": [],
   "source": [
    "london_covid_all_ons.to_csv('output_data/london_covid_all_ons.csv', index=False)"
   ]
  },
  {
   "cell_type": "markdown",
   "metadata": {},
   "source": [
    "### Now we create groups of similar stats that we can compare with covid death rate to identify correlations\n",
    "We we will create 3 groups:\n",
    "- age and ethnicity profile\n",
    "- health profile\n",
    "- deprivation profile\n",
    "\n",
    "- potential field values\n",
    "msoa_code\tmsoa_name\tlocal_auth_code\tlocal_auth_name\tcovid_19_deaths\tcovid_19_deaths_per_thousand\ttotal_population_mid_2018\tover_70_prop\tall_bame_prop\tall_black_prop\tpakistani_or_bangladeshi_prop\tall_indian_prop\thypertension\tobesity\tdiabetes\tasthma\theart_disease\tincome_rank\tenvironment_rank\teducation_rank\thealth_rank\thousing_rank\tliving_environment_rank"
   ]
  },
  {
   "cell_type": "code",
   "execution_count": null,
   "metadata": {},
   "outputs": [],
   "source": [
    "london_demographic = london_covid_stats[['msoa_code', \n",
    "                                       'msoa_name',\n",
    "                                        'measure',\n",
    "                                        'value',\n",
    "                                        'covid_19_deaths',\n",
    "                                        'covid_19_deaths_per_thousand',\n",
    "                                        'ons_total_deaths',\n",
    "                                        'ons_deaths_per_thousand']][london_covid_stats.measure.isin(['',\n",
    "                                                                               'over_70_prop', \n",
    "                                                                               'all_black_prop', \n",
    "                                                                               'pakistani_or_bangladeshi_prop', \n",
    "                                                                               'all_indian_prop'])].copy().reset_index()\n",
    "\n",
    "london_demographic.head()"
   ]
  },
  {
   "cell_type": "code",
   "execution_count": null,
   "metadata": {},
   "outputs": [],
   "source": [
    "import altair as alt\n",
    "\n",
    "alt.Chart(london_demographic).mark_point().encode(\n",
    "    x='covid_19_deaths_per_thousand:Q',\n",
    "    y='value:Q', \n",
    "    tooltip = ['msoa_name']\n",
    ").properties(\n",
    "    width=180,\n",
    "    height=180\n",
    ").facet(\n",
    "    column='measure:N'\n",
    ").interactive()"
   ]
  },
  {
   "cell_type": "code",
   "execution_count": null,
   "metadata": {},
   "outputs": [],
   "source": [
    "import altair as alt\n",
    "\n",
    "alt.Chart(london_demographic).mark_point().encode(\n",
    "    x='ons_deaths_per_thousand:Q',\n",
    "    y='value:Q', \n",
    "    tooltip = ['msoa_name']\n",
    ").properties(\n",
    "    width=180,\n",
    "    height=180\n",
    ").facet(\n",
    "    column='measure:N'\n",
    ").interactive()"
   ]
  },
  {
   "cell_type": "code",
   "execution_count": null,
   "metadata": {},
   "outputs": [],
   "source": [
    "london_health = london_covid_stats[['msoa_code', \n",
    "                                       'msoa_name',\n",
    "                                        'measure',\n",
    "                                        'value',\n",
    "                                        'covid_19_deaths',\n",
    "                                        'covid_19_deaths_per_thousand',\n",
    "                                        'ons_total_deaths',\n",
    "                                        'ons_deaths_per_thousand']][london_covid_stats.measure.isin(['hypertension',\n",
    "                                                                               'obesity', \n",
    "                                                                               'diabetes',\n",
    "                                                                               'heart_disease',\n",
    "                                                                               'asthma'])].copy().reset_index()\n",
    "\n",
    "london_health.head()"
   ]
  },
  {
   "cell_type": "code",
   "execution_count": null,
   "metadata": {},
   "outputs": [],
   "source": [
    "import altair as alt\n",
    "\n",
    "alt.Chart(london_health).mark_point().encode(\n",
    "    x='covid_19_deaths_per_thousand:Q',\n",
    "    y='value:Q', \n",
    "    tooltip = ['msoa_name']\n",
    ").properties(\n",
    "    width=180,\n",
    "    height=180\n",
    ").facet(\n",
    "    column='measure:N'\n",
    ").interactive()"
   ]
  },
  {
   "cell_type": "code",
   "execution_count": null,
   "metadata": {},
   "outputs": [],
   "source": [
    "import altair as alt\n",
    "\n",
    "alt.Chart(london_health).mark_point().encode(\n",
    "    x='ons_deaths_per_thousand:Q',\n",
    "    y='value:Q', \n",
    "    tooltip = ['msoa_name']\n",
    ").properties(\n",
    "    width=180,\n",
    "    height=180\n",
    ").facet(\n",
    "    column='measure:N'\n",
    ").interactive()"
   ]
  },
  {
   "cell_type": "code",
   "execution_count": null,
   "metadata": {},
   "outputs": [],
   "source": [
    "london_deprivation = london_covid_stats[['msoa_code', \n",
    "                                       'msoa_name',\n",
    "                                        'measure',\n",
    "                                        'value',\n",
    "                                        'covid_19_deaths',\n",
    "                                        'covid_19_deaths_per_thousand',\n",
    "                                        'ons_total_deaths',\n",
    "                                        'ons_deaths_per_thousand']][london_covid_stats.measure.isin(['income_rank',\n",
    "                                                                               'environment_rank', \n",
    "                                                                               'education_rank',\n",
    "                                                                               'housing_rank',\n",
    "                                                                               'living_environment_rank'])].copy().reset_index()\n",
    "\n",
    "london_health.head()"
   ]
  },
  {
   "cell_type": "code",
   "execution_count": null,
   "metadata": {},
   "outputs": [],
   "source": [
    "import altair as alt\n",
    "\n",
    "alt.Chart(london_deprivation).mark_point().encode(\n",
    "    x='covid_19_deaths_per_thousand:Q',\n",
    "    y='value:Q', \n",
    "    tooltip = ['msoa_name']\n",
    ").properties(\n",
    "    width=180,\n",
    "    height=180\n",
    ").facet(\n",
    "    column='measure:N'\n",
    ").interactive()"
   ]
  },
  {
   "cell_type": "code",
   "execution_count": null,
   "metadata": {},
   "outputs": [],
   "source": [
    "import altair as alt\n",
    "\n",
    "alt.Chart(london_deprivation).mark_point().encode(\n",
    "    x='ons_deaths_per_thousand:Q',\n",
    "    y='value:Q', \n",
    "    tooltip = ['msoa_name']\n",
    ").properties(\n",
    "    width=180,\n",
    "    height=180\n",
    ").facet(\n",
    "    column='measure:N'\n",
    ").interactive()"
   ]
  },
  {
   "cell_type": "markdown",
   "metadata": {},
   "source": [
    "### No obvious correlations \n",
    "There aren't any obvious correlations between deaths per thousand and the demographic, health or deprivation profiles in the MSOA levels. Let's confirm this by formally checking the correlations"
   ]
  },
  {
   "cell_type": "code",
   "execution_count": null,
   "metadata": {},
   "outputs": [],
   "source": [
    "london_corr_input = london_covid_all_ons[['covid_19_deaths_per_thousand', 'total_population_mid_2018',\n",
    "                                     'over_70_prop', 'all_bame_prop', 'all_black_prop', 'pakistani_or_bangladeshi_prop',\n",
    "                                     'all_indian_prop', 'hypertension',\n",
    "                                     'obesity', 'diabetes', 'asthma', 'heart_disease', 'income_rank', \n",
    "                                     'education_rank', 'health_rank', 'housing_rank', 'living_environment_rank']]\n",
    "london_corr = london_corr_input.corr()\n",
    "\n",
    "corr_deaths=london_corr[['covid_19_deaths_per_thousand']]\n",
    "#sort by the amount of correlation\n",
    "corr_deaths=corr_deaths.sort_values(by ='covid_19_deaths_per_thousand',ascending=True)\n",
    "\n",
    "corr_deaths"
   ]
  },
  {
   "cell_type": "markdown",
   "metadata": {},
   "source": [
    "### Now repeat for ONS deaths"
   ]
  },
  {
   "cell_type": "code",
   "execution_count": null,
   "metadata": {},
   "outputs": [],
   "source": [
    "london_corr_input_ons = london_covid_all_ons[['ons_deaths_per_thousand', 'total_population_mid_2018',\n",
    "                                     'over_70_prop', 'all_bame_prop', 'all_black_prop', 'pakistani_or_bangladeshi_prop',\n",
    "                                     'all_indian_prop', 'hypertension',\n",
    "                                     'obesity', 'diabetes', 'asthma', 'heart_disease', 'income_rank', \n",
    "                                     'education_rank', 'health_rank', 'housing_rank', 'living_environment_rank']]\n",
    "london_corr_ons = london_corr_input_ons.corr()\n",
    "\n",
    "corr_deaths_ons=london_corr_ons[['ons_deaths_per_thousand']]\n",
    "#sort by the amount of correlation\n",
    "corr_deaths_ons=corr_deaths_ons.sort_values(by ='ons_deaths_per_thousand',ascending=True)\n",
    "\n",
    "corr_deaths_ons"
   ]
  },
  {
   "cell_type": "code",
   "execution_count": null,
   "metadata": {},
   "outputs": [],
   "source": [
    "fig = plt.figure(figsize = (20,10))\n",
    "plt.subplot(1, 2, 1)\n",
    "\n",
    "sns.heatmap(\n",
    "    corr_deaths, \n",
    "    vmin=-1, vmax=1, center=0,\n",
    "    cmap=sns.diverging_palette(20, 220, n=200),\n",
    "    square=True\n",
    ")\n",
    "\n",
    "plt.subplot(1, 2, 2)\n",
    "sns.heatmap(\n",
    "    corr_deaths_ons, \n",
    "    vmin=-1, vmax=1, center=0,\n",
    "    cmap=sns.diverging_palette(20, 220, n=200),\n",
    "    square=True\n",
    ")\n",
    "\n",
    "plt.show()"
   ]
  },
  {
   "cell_type": "code",
   "execution_count": null,
   "metadata": {},
   "outputs": [],
   "source": [
    "# THis is the beginnings of code to create a dataframe with the individual values\n",
    "# so I can create a bar chart rather than a heatmap (better to compare) - doesn't \n",
    "# work yet.\n",
    "\n",
    "#corr_ons = pd.DataFrame([corr_deaths_ons['ons_deaths_per_thousand'].iloc[0], \n",
    "#            corr_deaths_ons['ons_deaths_per_thousand'].iloc[2]])\n",
    "#            \n",
    "#corr_ons\n",
    "\n",
    "#def create_corr_df(label, corr, n):\n",
    "#    lst = []\n",
    "#    for x in range(0, n):\n",
    "#        lst.append((corr[label].iloc[x], ))\n",
    "#        \n",
    "#    df = pd.DataFrame(lst)\n",
    "#    df['name'] = label\n",
    "#    \n",
    "#    return df\n",
    "#        \n",
    "#corr_ons = create_corr_df('ons_deaths_per_thousand', corr_deaths_ons, 17)\n",
    "#\n",
    "#corr_ons\n",
    "\n"
   ]
  },
  {
   "cell_type": "markdown",
   "metadata": {},
   "source": [
    "### Conclusions\n",
    "- Even incorporating death data up until the end of the first wave, it is reasonable to confirm the London Datastore findings that there are no correlations between demographic, health or deprivation factors and the total number of covid deaths in a London boroughs when considered in isolation. So a further avenue of research would be to perform a regression analysis, incrementally adding in each feature to understand which combination of borough characteristics have the biggest correlation with the number of deaths within the borough"
   ]
  },
  {
   "cell_type": "markdown",
   "metadata": {},
   "source": [
    "### Next steps\n",
    "The next step is to see whether there was any correlation between neighbouring locations over time between the beginning of March and the end of July. This will show if the virus spread in pockets."
   ]
  },
  {
   "cell_type": "markdown",
   "metadata": {},
   "source": [
    "#### Load weekly covid cases by MSOA"
   ]
  },
  {
   "cell_type": "code",
   "execution_count": null,
   "metadata": {},
   "outputs": [],
   "source": [
    "uk_covid_cases = pd.read_excel(\"MSOAs_latest.xlsx\", sheet_name='AmendedData')\n",
    "print(uk_covid_cases.count())\n",
    "uk_covid_cases.head()"
   ]
  },
  {
   "cell_type": "markdown",
   "metadata": {},
   "source": [
    "##### Now we want just msoa for London so get a list and then merge"
   ]
  },
  {
   "cell_type": "code",
   "execution_count": null,
   "metadata": {},
   "outputs": [],
   "source": [
    "london_covid_codes = london_covid_all_ons[['msoa_code', 'msoa_name', 'local_auth_code', \n",
    "                                           'local_auth_name', 'covid_19_deaths', \n",
    "                                           'ons_total_deaths','total_population_mid_2018']].copy()\n",
    "london_covid_cases = pd.merge(london_covid_codes, uk_covid_cases, left_on='msoa_code', right_on='msoa_code', how = 'inner')\n",
    "print(london_covid_cases.count())\n",
    "london_covid_cases.head()"
   ]
  },
  {
   "cell_type": "code",
   "execution_count": null,
   "metadata": {},
   "outputs": [],
   "source": [
    "london_covid_cases.drop(['msoa_name_y'], axis=1, inplace=True)\n",
    "london_covid_cases.rename(columns = {'msoa_name_x':'msoa_name'}, inplace = True)\n",
    "london_covid_cases.head()"
   ]
  },
  {
   "cell_type": "code",
   "execution_count": null,
   "metadata": {},
   "outputs": [],
   "source": [
    "col_names = london_covid_cases.columns.tolist()\n",
    "col_names"
   ]
  },
  {
   "cell_type": "code",
   "execution_count": null,
   "metadata": {},
   "outputs": [],
   "source": [
    "col_names = london_covid_cases.columns.tolist()\n",
    "col_names = col_names[7:45]\n",
    "\n",
    "london_weekly_cases_msoa = pd.melt(london_covid_cases, id_vars=['msoa_code', \n",
    "                                                        'msoa_name', \n",
    "                                                        'local_auth_code', \n",
    "                                                        'local_auth_name',\n",
    "                                                        'covid_19_deaths',\n",
    "                                                        'ons_total_deaths',\n",
    "                                                        'total_population_mid_2018'], \n",
    "                        value_vars=col_names, var_name = 'week_number', value_name='cases')\n",
    "\n",
    "print(london_weekly_cases_msoa.count())\n",
    "london_weekly_cases_msoa.head()"
   ]
  },
  {
   "cell_type": "code",
   "execution_count": null,
   "metadata": {},
   "outputs": [],
   "source": [
    "temp = london_weekly_cases_msoa.groupby([\"msoa_code\"]).apply(lambda x: x['cases'][london_weekly_cases_msoa.week_number < 27].sum()).reset_index()\n",
    "london_weekly_cases_msoa = pd.merge(london_weekly_cases_msoa, temp, left_on='msoa_code', right_on='msoa_code', how = 'inner')\n",
    "london_weekly_cases_msoa.rename(columns = {0:'cases_to_end_june'}, inplace = True)\n",
    "\n",
    "london_weekly_cases_msoa.head()"
   ]
  },
  {
   "cell_type": "markdown",
   "metadata": {},
   "source": [
    "#### Compare deaths to covid cases to see if correlated"
   ]
  },
  {
   "cell_type": "code",
   "execution_count": null,
   "metadata": {},
   "outputs": [],
   "source": [
    "import altair as alt\n",
    "\n",
    "alt.data_transformers.disable_max_rows()\n",
    "\n",
    "alt.Chart(london_weekly_cases_msoa).mark_point().encode(\n",
    "    x='ons_total_deaths:Q',\n",
    "    y='cases_to_end_june:Q', \n",
    "    tooltip = ['msoa_name']\n",
    ").properties(\n",
    "    width=180,\n",
    "    height=180\n",
    ").interactive()"
   ]
  },
  {
   "cell_type": "code",
   "execution_count": null,
   "metadata": {},
   "outputs": [],
   "source": [
    "import scipy.stats as stats\n",
    "\n",
    "corrPearson, pValPearson = stats.pearsonr(london_weekly_cases_msoa.ons_total_deaths, london_weekly_cases_msoa.cases_to_end_june)\n",
    "corrSpearman,pValSpearman = stats.spearmanr(london_weekly_cases_msoa.ons_total_deaths, london_weekly_cases_msoa.cases_to_end_june)\n",
    "\n",
    "print(\"Cased versus deaths: Pearson = \" + str(corrPearson) + \", Spearman = \" + str(corrSpearman) + \",\" + str(pValPearson))"
   ]
  },
  {
   "cell_type": "markdown",
   "metadata": {},
   "source": [
    "### Conclusions\n",
    "There is MODERATE correlation between cases and deaths and so it will be instructive to see how cases by region progress over time. \n",
    "\n",
    "First lets load appropriate shape files and merge with our data"
   ]
  },
  {
   "cell_type": "code",
   "execution_count": null,
   "metadata": {},
   "outputs": [],
   "source": [
    "import geopandas as gpd\n",
    "\n",
    "gb = gpd.read_file(\"Shapefiles/Middle_Layer_Super_Output_Areas__December_2001__Boundaries_EW_BGC.shp\") # a gis format that has geographical boundaries QGIS is a package for looking at shape files\n",
    "gb.crs = \"epsg:27700\" # code for the UK national grid"
   ]
  },
  {
   "cell_type": "code",
   "execution_count": null,
   "metadata": {},
   "outputs": [],
   "source": [
    "gb.head()"
   ]
  },
  {
   "cell_type": "code",
   "execution_count": null,
   "metadata": {},
   "outputs": [],
   "source": [
    "london_covid_geo = pd.merge(gb, london_weekly_cases_msoa, left_on='MSOA01CD', right_on='msoa_code', how = 'inner')"
   ]
  },
  {
   "cell_type": "code",
   "execution_count": null,
   "metadata": {},
   "outputs": [],
   "source": [
    "data_geo = alt.InlineData(values = london_covid_geo.to_json(), #geopandas to geojson string\n",
    "                       format = alt.DataFormat(property='features',type='json'))\n",
    "\n",
    "alt.Chart(data_geo).mark_geoshape(strokeWidth=1,stroke='lightgray',strokeOpacity=0.2\n",
    ").encode(\n",
    "    color=alt.Color('properties.ons_total_deaths:Q'),\n",
    "    tooltip=['properties.msoa_name:N', 'properties.ons_total_deaths:Q']\n",
    ").properties(\n",
    "    projection={'type': 'identity','reflectY': True},\n",
    "    width=800,\n",
    "    height=1200,\n",
    "    title='deaths by msoa - to jul'\n",
    ")"
   ]
  },
  {
   "cell_type": "markdown",
   "metadata": {},
   "source": [
    "### Discussion - we can see the pockets of London having with the highest concentration of covid deaths by July but now I want to see cases by week in a waffle chart"
   ]
  },
  {
   "cell_type": "code",
   "execution_count": null,
   "metadata": {},
   "outputs": [],
   "source": [
    "london_covid_temp = london_covid_all_ons[['msoa_code', 'msoa_name', 'local_auth_code', 'local_auth_name', \n",
    "                                          'covid_19_deaths', 'covid_19_deaths_per_thousand', 'ons_total_deaths',\n",
    "                                          'ons_deaths_per_thousand', 'march_deaths', 'april_deaths', 'may_deaths',\n",
    "                                          'june_deaths', 'july_deaths', 'total_population_mid_2018']].copy()\n",
    "\n",
    "london_cases_temp = london_covid_cases[['msoa_code', 10, 11, 12, 13, 14, 15,\n",
    "                                          16, 17, 18, 19, 20, 21, 22, 23, 24, 25, 26]].copy()\n",
    "\n",
    "london_coords_temp = pd.merge(london_covid_temp, london_cases_temp, \n",
    "                              left_on='msoa_code', right_on='msoa_code', how = 'inner')\n",
    "\n",
    "print(london_coords_temp.count())\n",
    "london_coords_temp.head()"
   ]
  },
  {
   "cell_type": "code",
   "execution_count": null,
   "metadata": {},
   "outputs": [],
   "source": [
    "soa_shape_map = gpd.read_file('Shapefiles/Middle_Layer_Super_Output_Areas__December_2001__Boundaries_EW_BGC.shp')\n",
    "\n",
    "soa_shape_map_geo = soa_shape_map.to_crs(epsg=4326)\n",
    "\n",
    "soa_shape_map_geo['long'] = soa_shape_map_geo.geometry.centroid.x\n",
    "soa_shape_map_geo['lat'] = soa_shape_map_geo.geometry.centroid.y\n",
    "\n",
    "london_covid_shapes = pd.merge(soa_shape_map_geo, london_coords_temp, left_on='MSOA01CD', right_on='msoa_code', how = 'inner')\n",
    "\n",
    "print(london_covid_shapes.count())\n",
    "london_covid_shapes"
   ]
  },
  {
   "cell_type": "code",
   "execution_count": null,
   "metadata": {},
   "outputs": [],
   "source": [
    "london_covid_shapes.to_csv('output_data/london_covid_shapes.csv', index=False)"
   ]
  },
  {
   "cell_type": "code",
   "execution_count": null,
   "metadata": {},
   "outputs": [],
   "source": [
    "print(\"max-lon=\" + str(london_covid_shapes.long.max()))\n",
    "print(\"min-lon=\" + str(london_covid_shapes.long.min()))\n",
    "print(\"max-lat=\" + str(london_covid_shapes.lat.max()))\n",
    "print(\"min-lat=\" + str(london_covid_shapes.lat.min()))"
   ]
  },
  {
   "cell_type": "code",
   "execution_count": null,
   "metadata": {},
   "outputs": [],
   "source": [
    "lon_range = (-0.5, 0.35)\n",
    "lon_cells = 15\n",
    "\n",
    "lat_range = (51.2, 51.8)\n",
    "lat_cells = 13"
   ]
  },
  {
   "cell_type": "code",
   "execution_count": null,
   "metadata": {},
   "outputs": [],
   "source": [
    "from shapely.geometry import Polygon\n",
    "\n",
    "lon_incr = (lon_range[1] - lon_range[0]) / lon_cells\n",
    "lat_incr = (lat_range[1] - lat_range[0]) / lat_cells\n",
    "x0, y0 = lon_range[0], lat_range[0]\n",
    "\n",
    "cell_ids = []\n",
    "grid_cells = []\n",
    "for c in range(lon_cells):\n",
    "    x1 = x0 + lon_incr\n",
    "    for r in range(lat_cells):\n",
    "        y1 = y0 + lat_incr\n",
    "        grid_cells.append(Polygon([(x0,y0),(x0,y1),(x1,y1),(x1,y0)]))\n",
    "        cell_ids.append('{:02d}_{:02d}'.format(c, r))\n",
    "        y0 = y1\n",
    "    x0 = x1\n",
    "    y0 = lat_range[0]\n"
   ]
  },
  {
   "cell_type": "code",
   "execution_count": null,
   "metadata": {},
   "outputs": [],
   "source": [
    "london_grid_temp = pd.melt(london_covid_shapes, id_vars=['msoa_code', \n",
    "                                                        'long', \n",
    "                                                        'lat'], \n",
    "                        value_vars=[10, 11, 12, 13, 14, 15, 16, 17, 18, \n",
    "                                    19, 20, 21, 22, 23, 24, 25, 26], var_name = 'week', value_name='cases')\n",
    "\n",
    "print(london_grid_temp.count())\n",
    "london_grid_temp.head()"
   ]
  },
  {
   "cell_type": "code",
   "execution_count": null,
   "metadata": {},
   "outputs": [],
   "source": [
    "london_grid_temp['grid_x']   = np.floor((london_grid_temp['long'] - lon_range[0]) / (lon_range[1] - lon_range[0]) * lon_cells).astype(int)\n",
    "london_grid_temp['grid_y']   = np.floor((london_grid_temp['lat']  - lat_range[0]) / (lat_range[1] - lat_range[0]) * lat_cells).astype(int)\n",
    "# The cell_id column will be used to link our aggregate data to the grid GeoJSON object for plotting\n",
    "london_grid_temp['cell_id']  = london_grid_temp[['grid_x','grid_y']].apply(lambda x: '{:02d}_{:02d}'.format(x.grid_x, x.grid_y), axis=1)\n",
    "london_grid_temp['interval'] = london_grid_temp['week']\n",
    "\n",
    "london_grid_temp.head()"
   ]
  },
  {
   "cell_type": "code",
   "execution_count": null,
   "metadata": {},
   "outputs": [],
   "source": [
    "london_grid = london_grid_temp.groupby(['cell_id', 'grid_x', 'grid_y', 'week']).sum().reset_index()\n",
    "london_grid['cummulative_deaths'] = london_grid.groupby(['cell_id', 'grid_x', 'grid_y'])['cases'].cumsum()\n",
    "\n",
    "london_grid.to_csv('output_data/london_grid.csv', index=False)\n",
    "london_grid.head()"
   ]
  },
  {
   "cell_type": "code",
   "execution_count": null,
   "metadata": {},
   "outputs": [],
   "source": [
    "alt.Chart(london_grid).mark_square().encode(\n",
    "    x='grid_x:O',\n",
    "    y='grid_y:O',\n",
    "    color = alt.Color('cummulative_deaths:Q', scale=alt.Scale(scheme='reds')), \n",
    "    tooltip = ['cummulative_deaths']\n",
    ").properties(\n",
    "    width=180,\n",
    "    height=180\n",
    ").facet(\n",
    "    column='week:O'\n",
    ").interactive()"
   ]
  },
  {
   "cell_type": "code",
   "execution_count": null,
   "metadata": {},
   "outputs": [],
   "source": []
  }
 ],
 "metadata": {
  "kernelspec": {
   "display_name": "Python 3",
   "language": "python",
   "name": "python3"
  },
  "language_info": {
   "codemirror_mode": {
    "name": "ipython",
    "version": 3
   },
   "file_extension": ".py",
   "mimetype": "text/x-python",
   "name": "python",
   "nbconvert_exporter": "python",
   "pygments_lexer": "ipython3",
   "version": "3.8.3"
  }
 },
 "nbformat": 4,
 "nbformat_minor": 4
}
